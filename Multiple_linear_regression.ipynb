{
 "cells": [
  {
   "cell_type": "code",
   "execution_count": 1,
   "id": "548a4043-a3c4-45b2-9ed0-ed3a735bc37c",
   "metadata": {},
   "outputs": [
    {
     "name": "stdout",
     "output_type": "stream",
     "text": [
      "   Years of Experience  Age  Education Level        Salary\n",
      "0                   13   45                4  82454.993353\n",
      "1                   16   24                2  69683.956665\n",
      "2                    1   56                4  75723.546515\n",
      "3                    4   57                2  30758.625212\n",
      "4                    4   52                4  69712.093458\n"
     ]
    }
   ],
   "source": [
    "import pandas as pd\n",
    "import numpy as np\n",
    "\n",
    "# Generate synthetic data\n",
    "np.random.seed(0)\n",
    "num_samples = 100\n",
    "years_of_experience = np.random.randint(1, 20, size=num_samples)\n",
    "age = np.random.randint(22, 65, size=num_samples)\n",
    "education_level = np.random.randint(1, 5, size=num_samples)  # Assume 1=High School, 2=Bachelor's, 3=Master's, 4=PhD\n",
    "salary = 30000 + (years_of_experience * 2000) + (age * 100) + (education_level * 5000) + np.random.normal(scale=10000, size=num_samples)\n",
    "\n",
    "# Create DataFrame\n",
    "data = {\n",
    "    \"Years of Experience\": years_of_experience,\n",
    "    \"Age\": age,\n",
    "    \"Education Level\": education_level,\n",
    "    \"Salary\": salary\n",
    "}\n",
    "dataset = pd.DataFrame(data)\n",
    "\n",
    "print(dataset.head())"
   ]
  },
  {
   "cell_type": "code",
   "execution_count": 2,
   "id": "8316b6d3-460d-4397-a4c8-9daf45a18334",
   "metadata": {},
   "outputs": [
    {
     "name": "stdout",
     "output_type": "stream",
     "text": [
      "Mean Squared Error: 70165147.63207223\n"
     ]
    }
   ],
   "source": [
    "import pandas as pd\n",
    "from sklearn.model_selection import train_test_split\n",
    "from sklearn.linear_model import LinearRegression\n",
    "from sklearn.metrics import mean_squared_error\n",
    "\n",
    "# Assuming you have loaded your dataset into a pandas DataFrame named 'dataset'\n",
    "# Splitting the dataset into features (X) and target variable (y)\n",
    "X = dataset[['Years of Experience', 'Age', 'Education Level']]  # Independent variables\n",
    "y = dataset['Salary']  # Dependent variable\n",
    "\n",
    "# Splitting the dataset into training and testing sets\n",
    "X_train, X_test, y_train, y_test = train_test_split(X, y, test_size=0.2, random_state=42)\n",
    "\n",
    "# Initialize the MLR model\n",
    "model = LinearRegression()\n",
    "\n",
    "# Train the model\n",
    "model.fit(X_train, y_train)\n",
    "\n",
    "# Making predictions\n",
    "y_pred = model.predict(X_test)\n",
    "\n",
    "# Evaluating the model\n",
    "mse = mean_squared_error(y_test, y_pred)\n",
    "print(\"Mean Squared Error:\", mse)\n"
   ]
  },
  {
   "cell_type": "code",
   "execution_count": null,
   "id": "c413459f-a125-4281-a17f-264da61d5b0d",
   "metadata": {},
   "outputs": [],
   "source": []
  }
 ],
 "metadata": {
  "kernelspec": {
   "display_name": "Python 3 (ipykernel)",
   "language": "python",
   "name": "python3"
  },
  "language_info": {
   "codemirror_mode": {
    "name": "ipython",
    "version": 3
   },
   "file_extension": ".py",
   "mimetype": "text/x-python",
   "name": "python",
   "nbconvert_exporter": "python",
   "pygments_lexer": "ipython3",
   "version": "3.13.0"
  }
 },
 "nbformat": 4,
 "nbformat_minor": 5
}
